{
 "cells": [
  {
   "cell_type": "code",
   "execution_count": 3,
   "metadata": {},
   "outputs": [
    {
     "name": "stdout",
     "output_type": "stream",
     "text": [
      "Offset 0 - 第一个地址余额: 4996450.721600081, 最后一个地址余额: 1449.515624176\n",
      "Offset 1000 - 第一个地址余额: 1448.0, 最后一个地址余额: 714.228843432\n",
      "Offset 2000 - 第一个地址余额: 714.065071052, 最后一个地址余额: 416.228181626\n",
      "Offset 3000 - 第一个地址余额: 415.671115308, 最后一个地址余额: 258.441574399\n",
      "Offset 4000 - 第一个地址余额: 257.981039506, 最后一个地址余额: 184.089005799\n",
      "Offset 5000 - 第一个地址余额: 183.940022725, 最后一个地址余额: 135.563092784\n",
      "Offset 6000 - 第一个地址余额: 135.55705426, 最后一个地址余额: 106.390155489\n",
      "Offset 7000 - 第一个地址余额: 106.388205784, 最后一个地址余额: 96.066891803\n",
      "Offset 8000 - 第一个地址余额: 96.060006344, 最后一个地址余额: 78.210721836\n",
      "Offset 9000 - 第一个地址余额: 78.207056823, 最后一个地址余额: 61.877320178\n",
      "Offset 10000 - 第一个地址余额: 61.870095792, 最后一个地址余额: 50.856719628\n",
      "Offset 11000 - 第一个地址余额: 50.827165592, 最后一个地址余额: 46.402000368\n",
      "Offset 12000 - 第一个地址余额: 46.396712725, 最后一个地址余额: 38.933512866\n",
      "Offset 13000 - 第一个地址余额: 38.932880719, 最后一个地址余额: 33.928387406\n",
      "Offset 14000 - 第一个地址余额: 33.92756375, 最后一个地址余额: 29.292806351\n",
      "Offset 15000 - 第一个地址余额: 29.29115834, 最后一个地址余额: 26.337276962\n",
      "Offset 16000 - 第一个地址余额: 26.336486848, 最后一个地址余额: 24.266554003\n",
      "Offset 17000 - 第一个地址余额: 24.264387842, 最后一个地址余额: 21.114051932\n",
      "Offset 18000 - 第一个地址余额: 21.112205976, 最后一个地址余额: 19.30317619\n",
      "Offset 19000 - 第一个地址余额: 19.30306687, 最后一个地址余额: 17.323286089\n",
      "总余额: 44761788.13225002\n"
     ]
    }
   ],
   "source": [
    "import requests\n",
    "\n",
    "# 初始化总余额\n",
    "total_balance = 0\n",
    "\n",
    "# 逐步增加 offset 参数，从 0 开始，每次增加 1000，直到达到 9000\n",
    "for offset in range(0, 20000, 1000):\n",
    "    try:\n",
    "        # 构造URL，替换offset参数\n",
    "        url = f\"https://tonapi.io/v2/jettons/EQC98_qAmNEptUtPc7W6xdHh_ZHrBUFpw5Ft_IzNU20QAJav/holders?limit=1000&offset={offset}\"\n",
    "        \n",
    "        # 发送请求并获取JSON数据\n",
    "        response = requests.get(url)\n",
    "        response.raise_for_status()  # 检查请求是否成功\n",
    "        data = response.json()\n",
    "\n",
    "        # 校验数据结构\n",
    "        if 'addresses' in data and data['addresses']:\n",
    "            # 提取余额并相加\n",
    "            total_balance += sum(float(address['balance']) for address in data['addresses'])\n",
    "            \n",
    "            # 获取第一个和最后一个地址的余额并将小数点左移9位\n",
    "            first_balance = float(data['addresses'][0]['balance']) / 1e9\n",
    "            last_balance = float(data['addresses'][-1]['balance']) / 1e9\n",
    "            \n",
    "            # 打印调整后的余额\n",
    "            print(f\"Offset {offset} - 第一个地址余额: {first_balance}, 最后一个地址余额: {last_balance}\")\n",
    "        else:\n",
    "            print(f\"数据结构不符合预期或没有地址，offset: {offset}\")\n",
    "    except requests.RequestException as e:\n",
    "        print(f\"请求失败，offset: {offset}，错误信息: {e}\")\n",
    "    except (KeyError, ValueError) as e:\n",
    "        print(f\"解析数据失败，offset: {offset}，错误信息: {e}\")\n",
    "\n",
    "# 将总余额的小数点左移 9 位\n",
    "adjusted_balance = total_balance / 1e9\n",
    "\n",
    "# 打印总余额\n",
    "print(\"总余额:\", adjusted_balance)\n"
   ]
  }
 ],
 "metadata": {
  "kernelspec": {
   "display_name": "Python 3",
   "language": "python",
   "name": "python3"
  },
  "language_info": {
   "codemirror_mode": {
    "name": "ipython",
    "version": 3
   },
   "file_extension": ".py",
   "mimetype": "text/x-python",
   "name": "python",
   "nbconvert_exporter": "python",
   "pygments_lexer": "ipython3",
   "version": "3.10.8"
  }
 },
 "nbformat": 4,
 "nbformat_minor": 2
}
